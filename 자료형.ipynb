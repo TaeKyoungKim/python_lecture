{
 "cells": [
  {
   "cell_type": "code",
   "execution_count": 1,
   "id": "e9bdd8ca",
   "metadata": {
    "ExecuteTime": {
     "end_time": "2021-05-25T00:37:51.474322Z",
     "start_time": "2021-05-25T00:37:51.456422Z"
    }
   },
   "outputs": [],
   "source": [
    "a = True\n",
    "b = False"
   ]
  },
  {
   "cell_type": "code",
   "execution_count": 2,
   "id": "84ec61a2",
   "metadata": {
    "ExecuteTime": {
     "end_time": "2021-05-25T00:38:29.360657Z",
     "start_time": "2021-05-25T00:38:29.351650Z"
    }
   },
   "outputs": [
    {
     "name": "stdout",
     "output_type": "stream",
     "text": [
      "<class 'bool'>\n"
     ]
    }
   ],
   "source": [
    "print(type(a))"
   ]
  },
  {
   "cell_type": "code",
   "execution_count": 4,
   "id": "adddd29d",
   "metadata": {
    "ExecuteTime": {
     "end_time": "2021-05-25T00:39:37.731496Z",
     "start_time": "2021-05-25T00:39:37.716854Z"
    }
   },
   "outputs": [
    {
     "data": {
      "text/plain": [
       "True"
      ]
     },
     "execution_count": 4,
     "metadata": {},
     "output_type": "execute_result"
    }
   ],
   "source": [
    "1 == 1"
   ]
  },
  {
   "cell_type": "code",
   "execution_count": 5,
   "id": "94fd186a",
   "metadata": {
    "ExecuteTime": {
     "end_time": "2021-05-25T00:40:16.836693Z",
     "start_time": "2021-05-25T00:40:16.832468Z"
    }
   },
   "outputs": [
    {
     "data": {
      "text/plain": [
       "False"
      ]
     },
     "execution_count": 5,
     "metadata": {},
     "output_type": "execute_result"
    }
   ],
   "source": [
    "2 <1"
   ]
  },
  {
   "cell_type": "code",
   "execution_count": 8,
   "id": "e3b16860",
   "metadata": {
    "ExecuteTime": {
     "end_time": "2021-05-25T00:42:00.400336Z",
     "start_time": "2021-05-25T00:42:00.394348Z"
    }
   },
   "outputs": [
    {
     "data": {
      "text/plain": [
       "False"
      ]
     },
     "execution_count": 8,
     "metadata": {},
     "output_type": "execute_result"
    }
   ],
   "source": [
    "bool('')"
   ]
  },
  {
   "cell_type": "code",
   "execution_count": 15,
   "id": "33d761e2",
   "metadata": {
    "ExecuteTime": {
     "end_time": "2021-05-25T00:44:51.127836Z",
     "start_time": "2021-05-25T00:44:51.110444Z"
    }
   },
   "outputs": [
    {
     "data": {
      "text/plain": [
       "False"
      ]
     },
     "execution_count": 15,
     "metadata": {},
     "output_type": "execute_result"
    }
   ],
   "source": [
    "bool(None)"
   ]
  },
  {
   "cell_type": "code",
   "execution_count": 16,
   "id": "74c59286",
   "metadata": {
    "ExecuteTime": {
     "end_time": "2021-05-25T00:45:51.009293Z",
     "start_time": "2021-05-25T00:45:50.989258Z"
    }
   },
   "outputs": [
    {
     "data": {
      "text/plain": [
       "float"
      ]
     },
     "execution_count": 16,
     "metadata": {},
     "output_type": "execute_result"
    }
   ],
   "source": [
    "pi = 3.141592\n",
    "type(pi)"
   ]
  },
  {
   "cell_type": "code",
   "execution_count": 17,
   "id": "13360ac6",
   "metadata": {
    "ExecuteTime": {
     "end_time": "2021-05-25T00:46:14.220221Z",
     "start_time": "2021-05-25T00:46:14.203188Z"
    }
   },
   "outputs": [
    {
     "data": {
      "text/plain": [
       "str"
      ]
     },
     "execution_count": 17,
     "metadata": {},
     "output_type": "execute_result"
    }
   ],
   "source": [
    "message = \"Good Morning\"\n",
    "type(message)"
   ]
  },
  {
   "cell_type": "code",
   "execution_count": 18,
   "id": "b19d1b95",
   "metadata": {
    "ExecuteTime": {
     "end_time": "2021-05-25T02:47:34.827772Z",
     "start_time": "2021-05-25T02:47:34.810778Z"
    }
   },
   "outputs": [
    {
     "name": "stdout",
     "output_type": "stream",
     "text": [
      "range(0, 10)\n"
     ]
    }
   ],
   "source": [
    "print(range(10))"
   ]
  },
  {
   "cell_type": "code",
   "execution_count": 20,
   "id": "be1f2e89",
   "metadata": {
    "ExecuteTime": {
     "end_time": "2021-05-25T02:48:13.242857Z",
     "start_time": "2021-05-25T02:48:13.226322Z"
    }
   },
   "outputs": [
    {
     "name": "stdout",
     "output_type": "stream",
     "text": [
      "1\n",
      "2\n",
      "3\n",
      "4\n",
      "5\n",
      "6\n",
      "7\n",
      "8\n",
      "9\n"
     ]
    }
   ],
   "source": [
    "for i in range(1, 10):\n",
    "    print(i)"
   ]
  },
  {
   "cell_type": "code",
   "execution_count": 21,
   "id": "786b8590",
   "metadata": {
    "ExecuteTime": {
     "end_time": "2021-05-25T05:16:21.000353Z",
     "start_time": "2021-05-25T05:16:20.986359Z"
    }
   },
   "outputs": [
    {
     "name": "stdout",
     "output_type": "stream",
     "text": [
      "1\n",
      "1\n",
      "2\n",
      "1\n",
      "1\n",
      "2\n",
      "1\n",
      "1\n",
      "2\n",
      "1\n",
      "1\n",
      "2\n",
      "1\n",
      "1\n",
      "2\n"
     ]
    }
   ],
   "source": [
    "for i in range(10):\n",
    "    print(\"1\")\n",
    "    if i%2 ==0:\n",
    "        continue\n",
    "    print('2')"
   ]
  },
  {
   "cell_type": "code",
   "execution_count": 24,
   "id": "a8a07d15",
   "metadata": {
    "ExecuteTime": {
     "end_time": "2021-05-25T05:30:16.229408Z",
     "start_time": "2021-05-25T05:30:16.227406Z"
    }
   },
   "outputs": [
    {
     "name": "stdout",
     "output_type": "stream",
     "text": [
      "<class 'str'>\n"
     ]
    }
   ],
   "source": [
    "a = type(\"abc\")\n",
    "print(a)"
   ]
  },
  {
   "cell_type": "code",
   "execution_count": 26,
   "id": "e32be856",
   "metadata": {
    "ExecuteTime": {
     "end_time": "2021-05-25T05:54:49.863479Z",
     "start_time": "2021-05-25T05:54:49.849442Z"
    }
   },
   "outputs": [],
   "source": [
    "\n",
    "def two_plus(c ,d):\n",
    "    return d+c"
   ]
  },
  {
   "cell_type": "code",
   "execution_count": 27,
   "id": "3c4e1f36",
   "metadata": {
    "ExecuteTime": {
     "end_time": "2021-05-25T05:55:26.995994Z",
     "start_time": "2021-05-25T05:55:22.752771Z"
    }
   },
   "outputs": [
    {
     "name": "stdout",
     "output_type": "stream",
     "text": [
      "a10\n",
      "b20\n"
     ]
    },
    {
     "data": {
      "text/plain": [
       "30"
      ]
     },
     "execution_count": 27,
     "metadata": {},
     "output_type": "execute_result"
    }
   ],
   "source": [
    "a =int(input('a'))\n",
    "b = int(input('b'))\n",
    "\n",
    "two_plus(a,b)"
   ]
  },
  {
   "cell_type": "code",
   "execution_count": null,
   "id": "dd7754c7",
   "metadata": {},
   "outputs": [],
   "source": []
  }
 ],
 "metadata": {
  "hide_input": false,
  "kernelspec": {
   "display_name": "Python 3",
   "language": "python",
   "name": "python3"
  },
  "language_info": {
   "codemirror_mode": {
    "name": "ipython",
    "version": 3
   },
   "file_extension": ".py",
   "mimetype": "text/x-python",
   "name": "python",
   "nbconvert_exporter": "python",
   "pygments_lexer": "ipython3",
   "version": "3.7.0"
  },
  "varInspector": {
   "cols": {
    "lenName": 16,
    "lenType": 16,
    "lenVar": 40
   },
   "kernels_config": {
    "python": {
     "delete_cmd_postfix": "",
     "delete_cmd_prefix": "del ",
     "library": "var_list.py",
     "varRefreshCmd": "print(var_dic_list())"
    },
    "r": {
     "delete_cmd_postfix": ") ",
     "delete_cmd_prefix": "rm(",
     "library": "var_list.r",
     "varRefreshCmd": "cat(var_dic_list()) "
    }
   },
   "types_to_exclude": [
    "module",
    "function",
    "builtin_function_or_method",
    "instance",
    "_Feature"
   ],
   "window_display": false
  }
 },
 "nbformat": 4,
 "nbformat_minor": 5
}
