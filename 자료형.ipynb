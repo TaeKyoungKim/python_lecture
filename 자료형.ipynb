{
 "cells": [
  {
   "cell_type": "code",
   "execution_count": 1,
   "id": "9fa520a7",
   "metadata": {
    "ExecuteTime": {
     "end_time": "2021-05-25T00:37:51.474322Z",
     "start_time": "2021-05-25T00:37:51.456422Z"
    }
   },
   "outputs": [],
   "source": [
    "a = True\n",
    "b = False"
   ]
  },
  {
   "cell_type": "code",
   "execution_count": 2,
   "id": "a6590da5",
   "metadata": {
    "ExecuteTime": {
     "end_time": "2021-05-25T00:38:29.360657Z",
     "start_time": "2021-05-25T00:38:29.351650Z"
    }
   },
   "outputs": [
    {
     "name": "stdout",
     "output_type": "stream",
     "text": [
      "<class 'bool'>\n"
     ]
    }
   ],
   "source": [
    "print(type(a))"
   ]
  },
  {
   "cell_type": "code",
   "execution_count": 4,
   "id": "c15de594",
   "metadata": {
    "ExecuteTime": {
     "end_time": "2021-05-25T00:39:37.731496Z",
     "start_time": "2021-05-25T00:39:37.716854Z"
    }
   },
   "outputs": [
    {
     "data": {
      "text/plain": [
       "True"
      ]
     },
     "execution_count": 4,
     "metadata": {},
     "output_type": "execute_result"
    }
   ],
   "source": [
    "1 == 1"
   ]
  },
  {
   "cell_type": "code",
   "execution_count": 5,
   "id": "340aaee2",
   "metadata": {
    "ExecuteTime": {
     "end_time": "2021-05-25T00:40:16.836693Z",
     "start_time": "2021-05-25T00:40:16.832468Z"
    }
   },
   "outputs": [
    {
     "data": {
      "text/plain": [
       "False"
      ]
     },
     "execution_count": 5,
     "metadata": {},
     "output_type": "execute_result"
    }
   ],
   "source": [
    "2 <1"
   ]
  },
  {
   "cell_type": "code",
   "execution_count": 8,
   "id": "9f7174e5",
   "metadata": {
    "ExecuteTime": {
     "end_time": "2021-05-25T00:42:00.400336Z",
     "start_time": "2021-05-25T00:42:00.394348Z"
    }
   },
   "outputs": [
    {
     "data": {
      "text/plain": [
       "False"
      ]
     },
     "execution_count": 8,
     "metadata": {},
     "output_type": "execute_result"
    }
   ],
   "source": [
    "bool('')"
   ]
  },
  {
   "cell_type": "code",
   "execution_count": 15,
   "id": "abb9388d",
   "metadata": {
    "ExecuteTime": {
     "end_time": "2021-05-25T00:44:51.127836Z",
     "start_time": "2021-05-25T00:44:51.110444Z"
    }
   },
   "outputs": [
    {
     "data": {
      "text/plain": [
       "False"
      ]
     },
     "execution_count": 15,
     "metadata": {},
     "output_type": "execute_result"
    }
   ],
   "source": [
    "bool(None)"
   ]
  },
  {
   "cell_type": "code",
   "execution_count": 16,
   "id": "0f02e528",
   "metadata": {
    "ExecuteTime": {
     "end_time": "2021-05-25T00:45:51.009293Z",
     "start_time": "2021-05-25T00:45:50.989258Z"
    }
   },
   "outputs": [
    {
     "data": {
      "text/plain": [
       "float"
      ]
     },
     "execution_count": 16,
     "metadata": {},
     "output_type": "execute_result"
    }
   ],
   "source": [
    "pi = 3.141592\n",
    "type(pi)"
   ]
  },
  {
   "cell_type": "code",
   "execution_count": 17,
   "id": "029d1997",
   "metadata": {
    "ExecuteTime": {
     "end_time": "2021-05-25T00:46:14.220221Z",
     "start_time": "2021-05-25T00:46:14.203188Z"
    }
   },
   "outputs": [
    {
     "data": {
      "text/plain": [
       "str"
      ]
     },
     "execution_count": 17,
     "metadata": {},
     "output_type": "execute_result"
    }
   ],
   "source": [
    "message = \"Good Morning\"\n",
    "type(message)"
   ]
  },
  {
   "cell_type": "code",
   "execution_count": 18,
   "id": "89d5868d",
   "metadata": {
    "ExecuteTime": {
     "end_time": "2021-05-25T02:47:34.827772Z",
     "start_time": "2021-05-25T02:47:34.810778Z"
    }
   },
   "outputs": [
    {
     "name": "stdout",
     "output_type": "stream",
     "text": [
      "range(0, 10)\n"
     ]
    }
   ],
   "source": [
    "print(range(10))"
   ]
  },
  {
   "cell_type": "code",
   "execution_count": 20,
   "id": "6a7388d8",
   "metadata": {
    "ExecuteTime": {
     "end_time": "2021-05-25T02:48:13.242857Z",
     "start_time": "2021-05-25T02:48:13.226322Z"
    }
   },
   "outputs": [
    {
     "name": "stdout",
     "output_type": "stream",
     "text": [
      "1\n",
      "2\n",
      "3\n",
      "4\n",
      "5\n",
      "6\n",
      "7\n",
      "8\n",
      "9\n"
     ]
    }
   ],
   "source": [
    "for i in range(1, 10):\n",
    "    print(i)"
   ]
  },
  {
   "cell_type": "code",
   "execution_count": 21,
   "id": "658ad503",
   "metadata": {
    "ExecuteTime": {
     "end_time": "2021-05-25T05:16:21.000353Z",
     "start_time": "2021-05-25T05:16:20.986359Z"
    }
   },
   "outputs": [
    {
     "name": "stdout",
     "output_type": "stream",
     "text": [
      "1\n",
      "1\n",
      "2\n",
      "1\n",
      "1\n",
      "2\n",
      "1\n",
      "1\n",
      "2\n",
      "1\n",
      "1\n",
      "2\n",
      "1\n",
      "1\n",
      "2\n"
     ]
    }
   ],
   "source": [
    "for i in range(10):\n",
    "    print(\"1\")\n",
    "    if i%2 ==0:\n",
    "        continue\n",
    "    print('2')"
   ]
  },
  {
   "cell_type": "code",
   "execution_count": 24,
   "id": "bc625e95",
   "metadata": {
    "ExecuteTime": {
     "end_time": "2021-05-25T05:30:16.229408Z",
     "start_time": "2021-05-25T05:30:16.227406Z"
    }
   },
   "outputs": [
    {
     "name": "stdout",
     "output_type": "stream",
     "text": [
      "<class 'str'>\n"
     ]
    }
   ],
   "source": [
    "a = type(\"abc\")\n",
    "print(a)"
   ]
  },
  {
   "cell_type": "code",
   "execution_count": 26,
   "id": "dec5180b",
   "metadata": {
    "ExecuteTime": {
     "end_time": "2021-05-25T05:54:49.863479Z",
     "start_time": "2021-05-25T05:54:49.849442Z"
    }
   },
   "outputs": [],
   "source": [
    "\n",
    "def two_plus(c ,d):\n",
    "    return d+c"
   ]
  },
  {
   "cell_type": "code",
   "execution_count": 27,
   "id": "63078cbb",
   "metadata": {
    "ExecuteTime": {
     "end_time": "2021-05-25T05:55:26.995994Z",
     "start_time": "2021-05-25T05:55:22.752771Z"
    }
   },
   "outputs": [
    {
     "name": "stdout",
     "output_type": "stream",
     "text": [
      "a10\n",
      "b20\n"
     ]
    },
    {
     "data": {
      "text/plain": [
       "30"
      ]
     },
     "execution_count": 27,
     "metadata": {},
     "output_type": "execute_result"
    }
   ],
   "source": [
    "a =int(input('a'))\n",
    "b = int(input('b'))\n",
    "\n",
    "two_plus(a,b)"
   ]
  },
  {
   "cell_type": "code",
   "execution_count": 43,
   "id": "fd585320",
   "metadata": {
    "ExecuteTime": {
     "end_time": "2021-05-25T06:59:04.816826Z",
     "start_time": "2021-05-25T06:59:04.806826Z"
    }
   },
   "outputs": [
    {
     "name": "stdout",
     "output_type": "stream",
     "text": [
      "hello world\n",
      "Hello!!\n"
     ]
    }
   ],
   "source": [
    "greet = \"Hello!!\"\n",
    "\n",
    "def print_greet():\n",
    "    global greet_1\n",
    "    greet_1 = \"hello world\"\n",
    "    \n",
    "    print(greet)\n",
    "# print(greet_1)\n",
    "\n",
    "print(greet_1)\n",
    "print_greet()"
   ]
  },
  {
   "cell_type": "code",
   "execution_count": 47,
   "id": "c9736c89",
   "metadata": {
    "ExecuteTime": {
     "end_time": "2021-05-25T07:00:41.090509Z",
     "start_time": "2021-05-25T07:00:41.080468Z"
    }
   },
   "outputs": [
    {
     "name": "stdout",
     "output_type": "stream",
     "text": [
      "Hello!!\n",
      "hello world\n"
     ]
    }
   ],
   "source": [
    "greet = \"Hello!!\"\n",
    "def print_greet_1():\n",
    "    global greet_2\n",
    "    greet_2 = \"hello world\"\n",
    "    print(greet)\n",
    "print_greet_1()\n",
    "print(greet_2)    "
   ]
  },
  {
   "cell_type": "code",
   "execution_count": 49,
   "id": "e27c3c05",
   "metadata": {
    "ExecuteTime": {
     "end_time": "2021-05-25T07:04:34.339529Z",
     "start_time": "2021-05-25T07:04:34.326998Z"
    }
   },
   "outputs": [
    {
     "ename": "TypeError",
     "evalue": "print_star() missing 1 required positional argument: 'n'",
     "output_type": "error",
     "traceback": [
      "\u001b[1;31m---------------------------------------------------------------------------\u001b[0m",
      "\u001b[1;31mTypeError\u001b[0m                                 Traceback (most recent call last)",
      "\u001b[1;32m<ipython-input-49-66f4182265d1>\u001b[0m in \u001b[0;36m<module>\u001b[1;34m\u001b[0m\n\u001b[0;32m      3\u001b[0m         \u001b[0mprint\u001b[0m\u001b[1;33m(\u001b[0m\u001b[1;34m'************************'\u001b[0m\u001b[1;33m)\u001b[0m\u001b[1;33m\u001b[0m\u001b[0m\n\u001b[0;32m      4\u001b[0m \u001b[1;33m\u001b[0m\u001b[0m\n\u001b[1;32m----> 5\u001b[1;33m \u001b[0mprint_star\u001b[0m\u001b[1;33m(\u001b[0m\u001b[1;33m)\u001b[0m\u001b[1;33m\u001b[0m\u001b[0m\n\u001b[0m",
      "\u001b[1;31mTypeError\u001b[0m: print_star() missing 1 required positional argument: 'n'"
     ]
    }
   ],
   "source": [
    "def print_star(n): # 인자를 필요로 함\n",
    "    for _ in range(n):\n",
    "        print('************************')\n",
    "    \n",
    "print_star()"
   ]
  },
  {
   "cell_type": "code",
   "execution_count": 50,
   "id": "9eaee053",
   "metadata": {
    "ExecuteTime": {
     "end_time": "2021-05-25T07:06:00.329873Z",
     "start_time": "2021-05-25T07:06:00.312829Z"
    }
   },
   "outputs": [
    {
     "name": "stdout",
     "output_type": "stream",
     "text": [
      "************************\n",
      "************************\n",
      "************************\n"
     ]
    }
   ],
   "source": [
    "def print_star(n=3): # 인자를 필요로 않음\n",
    "    for _ in range(n):\n",
    "        print('************************')\n",
    "    \n",
    "print_star()"
   ]
  },
  {
   "cell_type": "code",
   "execution_count": 51,
   "id": "8480f437",
   "metadata": {
    "ExecuteTime": {
     "end_time": "2021-05-25T08:00:06.616487Z",
     "start_time": "2021-05-25T08:00:06.597459Z"
    }
   },
   "outputs": [
    {
     "name": "stdout",
     "output_type": "stream",
     "text": [
      "('a', 'b', 'c')\n",
      "a\n",
      "b\n",
      "c\n"
     ]
    }
   ],
   "source": [
    "def greet(*names):\n",
    "    print(names)\n",
    "    for i in names:\n",
    "        print(i)\n",
    "        \n",
    "greet(\"a\", \"b\", \"c\")"
   ]
  },
  {
   "cell_type": "code",
   "execution_count": null,
   "id": "ac35fc08",
   "metadata": {},
   "outputs": [],
   "source": []
  }
 ],
 "metadata": {
  "hide_input": false,
  "kernelspec": {
   "display_name": "Python 3",
   "language": "python",
   "name": "python3"
  },
  "language_info": {
   "codemirror_mode": {
    "name": "ipython",
    "version": 3
   },
   "file_extension": ".py",
   "mimetype": "text/x-python",
   "name": "python",
   "nbconvert_exporter": "python",
   "pygments_lexer": "ipython3",
   "version": "3.7.0"
  },
  "varInspector": {
   "cols": {
    "lenName": 16,
    "lenType": 16,
    "lenVar": 40
   },
   "kernels_config": {
    "python": {
     "delete_cmd_postfix": "",
     "delete_cmd_prefix": "del ",
     "library": "var_list.py",
     "varRefreshCmd": "print(var_dic_list())"
    },
    "r": {
     "delete_cmd_postfix": ") ",
     "delete_cmd_prefix": "rm(",
     "library": "var_list.r",
     "varRefreshCmd": "cat(var_dic_list()) "
    }
   },
   "types_to_exclude": [
    "module",
    "function",
    "builtin_function_or_method",
    "instance",
    "_Feature"
   ],
   "window_display": false
  }
 },
 "nbformat": 4,
 "nbformat_minor": 5
}
