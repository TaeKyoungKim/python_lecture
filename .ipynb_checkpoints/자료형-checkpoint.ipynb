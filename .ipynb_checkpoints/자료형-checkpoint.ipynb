{
 "cells": [
  {
   "cell_type": "code",
   "execution_count": 1,
   "id": "079017bb",
   "metadata": {
    "ExecuteTime": {
     "end_time": "2021-05-25T00:37:51.474322Z",
     "start_time": "2021-05-25T00:37:51.456422Z"
    }
   },
   "outputs": [],
   "source": [
    "a = True\n",
    "b = False"
   ]
  },
  {
   "cell_type": "code",
   "execution_count": 2,
   "id": "3cc559e1",
   "metadata": {
    "ExecuteTime": {
     "end_time": "2021-05-25T00:38:29.360657Z",
     "start_time": "2021-05-25T00:38:29.351650Z"
    }
   },
   "outputs": [
    {
     "name": "stdout",
     "output_type": "stream",
     "text": [
      "<class 'bool'>\n"
     ]
    }
   ],
   "source": [
    "print(type(a))"
   ]
  },
  {
   "cell_type": "code",
   "execution_count": 4,
   "id": "0ee9fc89",
   "metadata": {
    "ExecuteTime": {
     "end_time": "2021-05-25T00:39:37.731496Z",
     "start_time": "2021-05-25T00:39:37.716854Z"
    }
   },
   "outputs": [
    {
     "data": {
      "text/plain": [
       "True"
      ]
     },
     "execution_count": 4,
     "metadata": {},
     "output_type": "execute_result"
    }
   ],
   "source": [
    "1 == 1"
   ]
  },
  {
   "cell_type": "code",
   "execution_count": 5,
   "id": "74c48117",
   "metadata": {
    "ExecuteTime": {
     "end_time": "2021-05-25T00:40:16.836693Z",
     "start_time": "2021-05-25T00:40:16.832468Z"
    }
   },
   "outputs": [
    {
     "data": {
      "text/plain": [
       "False"
      ]
     },
     "execution_count": 5,
     "metadata": {},
     "output_type": "execute_result"
    }
   ],
   "source": [
    "2 <1"
   ]
  },
  {
   "cell_type": "code",
   "execution_count": 8,
   "id": "c9d5b8e8",
   "metadata": {
    "ExecuteTime": {
     "end_time": "2021-05-25T00:42:00.400336Z",
     "start_time": "2021-05-25T00:42:00.394348Z"
    }
   },
   "outputs": [
    {
     "data": {
      "text/plain": [
       "False"
      ]
     },
     "execution_count": 8,
     "metadata": {},
     "output_type": "execute_result"
    }
   ],
   "source": [
    "bool('')"
   ]
  },
  {
   "cell_type": "code",
   "execution_count": 15,
   "id": "d7e14806",
   "metadata": {
    "ExecuteTime": {
     "end_time": "2021-05-25T00:44:51.127836Z",
     "start_time": "2021-05-25T00:44:51.110444Z"
    }
   },
   "outputs": [
    {
     "data": {
      "text/plain": [
       "False"
      ]
     },
     "execution_count": 15,
     "metadata": {},
     "output_type": "execute_result"
    }
   ],
   "source": [
    "bool(None)"
   ]
  },
  {
   "cell_type": "code",
   "execution_count": 16,
   "id": "5b93ac2a",
   "metadata": {
    "ExecuteTime": {
     "end_time": "2021-05-25T00:45:51.009293Z",
     "start_time": "2021-05-25T00:45:50.989258Z"
    }
   },
   "outputs": [
    {
     "data": {
      "text/plain": [
       "float"
      ]
     },
     "execution_count": 16,
     "metadata": {},
     "output_type": "execute_result"
    }
   ],
   "source": [
    "pi = 3.141592\n",
    "type(pi)"
   ]
  },
  {
   "cell_type": "code",
   "execution_count": 17,
   "id": "56a95c4b",
   "metadata": {
    "ExecuteTime": {
     "end_time": "2021-05-25T00:46:14.220221Z",
     "start_time": "2021-05-25T00:46:14.203188Z"
    }
   },
   "outputs": [
    {
     "data": {
      "text/plain": [
       "str"
      ]
     },
     "execution_count": 17,
     "metadata": {},
     "output_type": "execute_result"
    }
   ],
   "source": [
    "message = \"Good Morning\"\n",
    "type(message)"
   ]
  },
  {
   "cell_type": "code",
   "execution_count": 18,
   "id": "940d83f4",
   "metadata": {
    "ExecuteTime": {
     "end_time": "2021-05-25T02:47:34.827772Z",
     "start_time": "2021-05-25T02:47:34.810778Z"
    }
   },
   "outputs": [
    {
     "name": "stdout",
     "output_type": "stream",
     "text": [
      "range(0, 10)\n"
     ]
    }
   ],
   "source": [
    "print(range(10))"
   ]
  },
  {
   "cell_type": "code",
   "execution_count": 20,
   "id": "3e970ffa",
   "metadata": {
    "ExecuteTime": {
     "end_time": "2021-05-25T02:48:13.242857Z",
     "start_time": "2021-05-25T02:48:13.226322Z"
    }
   },
   "outputs": [
    {
     "name": "stdout",
     "output_type": "stream",
     "text": [
      "1\n",
      "2\n",
      "3\n",
      "4\n",
      "5\n",
      "6\n",
      "7\n",
      "8\n",
      "9\n"
     ]
    }
   ],
   "source": [
    "for i in range(1, 10):\n",
    "    print(i)"
   ]
  },
  {
   "cell_type": "code",
   "execution_count": 21,
   "id": "90862b2d",
   "metadata": {
    "ExecuteTime": {
     "end_time": "2021-05-25T05:16:21.000353Z",
     "start_time": "2021-05-25T05:16:20.986359Z"
    }
   },
   "outputs": [
    {
     "name": "stdout",
     "output_type": "stream",
     "text": [
      "1\n",
      "1\n",
      "2\n",
      "1\n",
      "1\n",
      "2\n",
      "1\n",
      "1\n",
      "2\n",
      "1\n",
      "1\n",
      "2\n",
      "1\n",
      "1\n",
      "2\n"
     ]
    }
   ],
   "source": [
    "for i in range(10):\n",
    "    print(\"1\")\n",
    "    if i%2 ==0:\n",
    "        continue\n",
    "    print('2')"
   ]
  },
  {
   "cell_type": "code",
   "execution_count": 24,
   "id": "1f1b8e26",
   "metadata": {
    "ExecuteTime": {
     "end_time": "2021-05-25T05:30:16.229408Z",
     "start_time": "2021-05-25T05:30:16.227406Z"
    }
   },
   "outputs": [
    {
     "name": "stdout",
     "output_type": "stream",
     "text": [
      "<class 'str'>\n"
     ]
    }
   ],
   "source": [
    "a = type(\"abc\")\n",
    "print(a)"
   ]
  },
  {
   "cell_type": "code",
   "execution_count": 26,
   "id": "7a6cdfb0",
   "metadata": {
    "ExecuteTime": {
     "end_time": "2021-05-25T05:54:49.863479Z",
     "start_time": "2021-05-25T05:54:49.849442Z"
    }
   },
   "outputs": [],
   "source": [
    "\n",
    "def two_plus(c ,d):\n",
    "    return d+c"
   ]
  },
  {
   "cell_type": "code",
   "execution_count": 27,
   "id": "15ad9418",
   "metadata": {
    "ExecuteTime": {
     "end_time": "2021-05-25T05:55:26.995994Z",
     "start_time": "2021-05-25T05:55:22.752771Z"
    }
   },
   "outputs": [
    {
     "name": "stdout",
     "output_type": "stream",
     "text": [
      "a10\n",
      "b20\n"
     ]
    },
    {
     "data": {
      "text/plain": [
       "30"
      ]
     },
     "execution_count": 27,
     "metadata": {},
     "output_type": "execute_result"
    }
   ],
   "source": [
    "a =int(input('a'))\n",
    "b = int(input('b'))\n",
    "\n",
    "two_plus(a,b)"
   ]
  },
  {
   "cell_type": "code",
   "execution_count": 43,
   "id": "14d1f621",
   "metadata": {
    "ExecuteTime": {
     "end_time": "2021-05-25T06:59:04.816826Z",
     "start_time": "2021-05-25T06:59:04.806826Z"
    }
   },
   "outputs": [
    {
     "name": "stdout",
     "output_type": "stream",
     "text": [
      "hello world\n",
      "Hello!!\n"
     ]
    }
   ],
   "source": [
    "greet = \"Hello!!\"\n",
    "\n",
    "def print_greet():\n",
    "    global greet_1\n",
    "    greet_1 = \"hello world\"\n",
    "    \n",
    "    print(greet)\n",
    "# print(greet_1)\n",
    "\n",
    "print(greet_1)\n",
    "print_greet()"
   ]
  },
  {
   "cell_type": "code",
   "execution_count": 47,
   "id": "7717db1c",
   "metadata": {
    "ExecuteTime": {
     "end_time": "2021-05-25T07:00:41.090509Z",
     "start_time": "2021-05-25T07:00:41.080468Z"
    }
   },
   "outputs": [
    {
     "name": "stdout",
     "output_type": "stream",
     "text": [
      "Hello!!\n",
      "hello world\n"
     ]
    }
   ],
   "source": [
    "greet = \"Hello!!\"\n",
    "def print_greet_1():\n",
    "    global greet_2\n",
    "    greet_2 = \"hello world\"\n",
    "    print(greet)\n",
    "print_greet_1()\n",
    "print(greet_2)    "
   ]
  },
  {
   "cell_type": "code",
   "execution_count": 49,
   "id": "14500fbc",
   "metadata": {
    "ExecuteTime": {
     "end_time": "2021-05-25T07:04:34.339529Z",
     "start_time": "2021-05-25T07:04:34.326998Z"
    }
   },
   "outputs": [
    {
     "ename": "TypeError",
     "evalue": "print_star() missing 1 required positional argument: 'n'",
     "output_type": "error",
     "traceback": [
      "\u001b[1;31m---------------------------------------------------------------------------\u001b[0m",
      "\u001b[1;31mTypeError\u001b[0m                                 Traceback (most recent call last)",
      "\u001b[1;32m<ipython-input-49-66f4182265d1>\u001b[0m in \u001b[0;36m<module>\u001b[1;34m\u001b[0m\n\u001b[0;32m      3\u001b[0m         \u001b[0mprint\u001b[0m\u001b[1;33m(\u001b[0m\u001b[1;34m'************************'\u001b[0m\u001b[1;33m)\u001b[0m\u001b[1;33m\u001b[0m\u001b[0m\n\u001b[0;32m      4\u001b[0m \u001b[1;33m\u001b[0m\u001b[0m\n\u001b[1;32m----> 5\u001b[1;33m \u001b[0mprint_star\u001b[0m\u001b[1;33m(\u001b[0m\u001b[1;33m)\u001b[0m\u001b[1;33m\u001b[0m\u001b[0m\n\u001b[0m",
      "\u001b[1;31mTypeError\u001b[0m: print_star() missing 1 required positional argument: 'n'"
     ]
    }
   ],
   "source": [
    "def print_star(n): # 인자를 필요로 함\n",
    "    for _ in range(n):\n",
    "        print('************************')\n",
    "    \n",
    "print_star()"
   ]
  },
  {
   "cell_type": "code",
   "execution_count": 50,
   "id": "9255049b",
   "metadata": {
    "ExecuteTime": {
     "end_time": "2021-05-25T07:06:00.329873Z",
     "start_time": "2021-05-25T07:06:00.312829Z"
    }
   },
   "outputs": [
    {
     "name": "stdout",
     "output_type": "stream",
     "text": [
      "************************\n",
      "************************\n",
      "************************\n"
     ]
    }
   ],
   "source": [
    "def print_star(n=3): # 인자를 필요로 않음\n",
    "    for _ in range(n):\n",
    "        print('************************')\n",
    "    \n",
    "print_star()"
   ]
  },
  {
   "cell_type": "code",
   "execution_count": 56,
   "id": "54b05119",
   "metadata": {
    "ExecuteTime": {
     "end_time": "2021-05-25T08:05:41.405084Z",
     "start_time": "2021-05-25T08:05:41.397083Z"
    }
   },
   "outputs": [
    {
     "name": "stdout",
     "output_type": "stream",
     "text": [
      "('a', 'b', 'c')\n",
      "a\n",
      "b\n",
      "c\n"
     ]
    }
   ],
   "source": [
    "def greet(*args):\n",
    "    print(args)\n",
    "    for i in args:\n",
    "        print(i)\n",
    "        \n",
    "greet(\"a\", \"b\", \"c\")"
   ]
  },
  {
   "cell_type": "code",
   "execution_count": 54,
   "id": "03e151a4",
   "metadata": {
    "ExecuteTime": {
     "end_time": "2021-05-25T08:03:52.518120Z",
     "start_time": "2021-05-25T08:03:52.493067Z"
    }
   },
   "outputs": [
    {
     "ename": "ModuleNotFoundError",
     "evalue": "No module named 'cv2'",
     "output_type": "error",
     "traceback": [
      "\u001b[1;31m---------------------------------------------------------------------------\u001b[0m",
      "\u001b[1;31mModuleNotFoundError\u001b[0m                       Traceback (most recent call last)",
      "\u001b[1;32m<ipython-input-54-d4c360fbc279>\u001b[0m in \u001b[0;36m<module>\u001b[1;34m\u001b[0m\n\u001b[1;32m----> 1\u001b[1;33m \u001b[1;32mimport\u001b[0m \u001b[0mcv2\u001b[0m\u001b[1;33m\u001b[0m\u001b[0m\n\u001b[0m\u001b[0;32m      2\u001b[0m \u001b[1;32mimport\u001b[0m \u001b[0mnumpy\u001b[0m \u001b[1;32mas\u001b[0m \u001b[0mnp\u001b[0m\u001b[1;33m\u001b[0m\u001b[0m\n\u001b[0;32m      3\u001b[0m \u001b[1;32mclass\u001b[0m \u001b[0mMyWindow\u001b[0m\u001b[1;33m(\u001b[0m\u001b[1;33m)\u001b[0m\u001b[1;33m:\u001b[0m\u001b[1;33m\u001b[0m\u001b[0m\n\u001b[0;32m      4\u001b[0m     \u001b[1;32mdef\u001b[0m \u001b[0m__init__\u001b[0m\u001b[1;33m(\u001b[0m\u001b[0mself\u001b[0m\u001b[1;33m)\u001b[0m\u001b[1;33m:\u001b[0m\u001b[1;33m\u001b[0m\u001b[0m\n\u001b[0;32m      5\u001b[0m         \u001b[0msuper\u001b[0m\u001b[1;33m(\u001b[0m\u001b[1;33m)\u001b[0m\u001b[1;33m.\u001b[0m\u001b[0m__init__\u001b[0m\u001b[1;33m(\u001b[0m\u001b[1;33m)\u001b[0m\u001b[1;33m\u001b[0m\u001b[0m\n",
      "\u001b[1;31mModuleNotFoundError\u001b[0m: No module named 'cv2'"
     ]
    }
   ],
   "source": [
    "import cv2\n",
    "import numpy as np\n",
    "class MyWindow():\n",
    "    def __init__(self):\n",
    "        super().__init__()\n",
    "        self.ret = None\n",
    "        self.frame = None\n",
    "        self.blur_image = None\n",
    "        self.title = \"frame\"\n",
    "        self.initial()\n",
    "    def initial(self):\n",
    "        self.cam_id = 0\n",
    "        self.cap = 0\n",
    "        self.gray = None\n",
    "        self.edged = None\n",
    "        self.image_copy = None\n",
    "        self.title_copy = \"copy\"\n",
    "        self.size = (640,480)\n",
    "    def show_camera(self):\n",
    "        self.cap = cv2.VideoCapture(self.cam_id)\n",
    "        if not self.cap.isOpened():\n",
    "            raise FileNotFoundError()\n",
    "        while 1:\n",
    "            ret, self.frame = self.cap.read()\n",
    "            #ret, self.frame = cv2.threshold(self.frame, threshold, 255, thr_type)\n",
    "            b,g,r = cv2.split(self.frame)\n",
    "            self.frame = cv2.merge((b,g,r)) # 왜 나누었다가 합친거지?\n",
    "            # 프레임 영상 크기 조절\n",
    "            self.frame = cv2.resize(self.frame, self.size)\n",
    "            self.threshold()\n",
    "            # 이미지 출력\n",
    "            cv2.imshow(self.title, self.frame)\n",
    "            if cv2.waitKey(33) == 27:\n",
    "                self.close_windows()\n",
    "    def threshold(self):\n",
    "        if self.frame is None:\n",
    "            return\n",
    "        cv2.namedWindow(\"BINARY\", cv2.WINDOW_NORMAL)\n",
    "        cv2.namedWindow(\"BINARY_INV\", cv2.WINDOW_NORMAL)\n",
    "        cv2.namedWindow(\"TRUNC\", cv2.WINDOW_NORMAL)\n",
    "        cv2.namedWindow(\"TOZERO\", cv2.WINDOW_NORMAL)\n",
    "        cv2.namedWindow(\"TOZERO_INV\", cv2.WINDOW_NORMAL)\n",
    "        ret, thr1 = cv2.threshold(self.frame, 127, 255, cv2.THRESH_BINARY)\n",
    "        ret, thr2 = cv2.threshold(self.frame, 127, 255, cv2.THRESH_BINARY_INV)\n",
    "        ret, thr3 = cv2.threshold(self.frame, 127, 255, cv2.THRESH_TRUNC)\n",
    "        ret, thr4 = cv2.threshold(self.frame, 127, 255, cv2.THRESH_TOZERO)\n",
    "        ret, thr5 = cv2.threshold(self.frame, 127, 255, cv2.THRESH_TOZERO_INV)\n",
    "        # cv2.THRESH_BINARY: threshold보다 크면 value이고 아니면 0으로 바꾸어 줍니다. \n",
    "        # cv2.THRESH_BINARY_INV: threshold보다 크면 0이고 아니면 value로 바꾸어 줍니다.   \n",
    "        # cv2.THRESH_TRUNC: threshold보다 크면 value로 지정하고 작으면 기존의 값 그대로 사용한다. \n",
    "        # cv2.THRESH_TOZERO: treshold_value보다 크면 픽셀 값 그대로 작으면 0으로 할당한다. \n",
    "        # cv2.THRESH_TOZERO_INV: threshold_value보다 크면 0으로 작으면 그대로 할당해준다. \n",
    "        thr1 = cv2.resize(thr1,self.size)\n",
    "        cv2.imshow(\"BINARY\", thr1)\n",
    "        cv2.imshow(\"BINARY_INV\", thr2)\n",
    "        cv2.imshow(\"TRUNC\", thr3)\n",
    "        cv2.imshow(\"TOZERO\", thr4)\n",
    "        cv2.imshow(\"TOZERO_INV\", thr5)\n",
    "    def close_windows(self):\n",
    "        cv2.destroyAllWindows('frame')\n",
    "def main():\n",
    "    editor = MyWindow()\n",
    "    editor.show_camera()\n",
    "if __name__ == \"__main__\":\n",
    "    main()"
   ]
  },
  {
   "cell_type": "code",
   "execution_count": 53,
   "id": "8d70bc4d",
   "metadata": {
    "ExecuteTime": {
     "end_time": "2021-05-25T08:03:49.912534Z",
     "start_time": "2021-05-25T08:03:48.297754Z"
    }
   },
   "outputs": [
    {
     "name": "stdout",
     "output_type": "stream",
     "text": [
      "Collecting cv2\n"
     ]
    },
    {
     "name": "stderr",
     "output_type": "stream",
     "text": [
      "  Could not find a version that satisfies the requirement cv2 (from versions: )\n",
      "No matching distribution found for cv2\n",
      "You are using pip version 10.0.1, however version 21.1.2 is available.\n",
      "You should consider upgrading via the 'python -m pip install --upgrade pip' command.\n"
     ]
    }
   ],
   "source": [
    "!pip install cv2"
   ]
  },
  {
   "cell_type": "code",
   "execution_count": 58,
   "id": "68f1d637",
   "metadata": {
    "ExecuteTime": {
     "end_time": "2021-05-25T08:16:58.664755Z",
     "start_time": "2021-05-25T08:16:58.656250Z"
    }
   },
   "outputs": [
    {
     "ename": "TypeError",
     "evalue": "kwargs_type() takes 0 positional arguments but 3 were given",
     "output_type": "error",
     "traceback": [
      "\u001b[1;31m---------------------------------------------------------------------------\u001b[0m",
      "\u001b[1;31mTypeError\u001b[0m                                 Traceback (most recent call last)",
      "\u001b[1;32m<ipython-input-58-91392421a449>\u001b[0m in \u001b[0;36m<module>\u001b[1;34m\u001b[0m\n\u001b[0;32m      1\u001b[0m \u001b[1;32mdef\u001b[0m \u001b[0mkwargs_type\u001b[0m\u001b[1;33m(\u001b[0m\u001b[1;33m**\u001b[0m\u001b[0mkwargs\u001b[0m\u001b[1;33m)\u001b[0m\u001b[1;33m:\u001b[0m\u001b[1;33m\u001b[0m\u001b[0m\n\u001b[0;32m      2\u001b[0m     \u001b[0mprint\u001b[0m\u001b[1;33m(\u001b[0m\u001b[0mkwargs\u001b[0m\u001b[1;33m)\u001b[0m\u001b[1;33m\u001b[0m\u001b[0m\n\u001b[1;32m----> 3\u001b[1;33m \u001b[0mkwargs_type\u001b[0m\u001b[1;33m(\u001b[0m\u001b[1;36m1\u001b[0m\u001b[1;33m,\u001b[0m \u001b[1;36m3\u001b[0m\u001b[1;33m,\u001b[0m\u001b[1;36m6\u001b[0m\u001b[1;33m)\u001b[0m\u001b[1;33m\u001b[0m\u001b[0m\n\u001b[0m",
      "\u001b[1;31mTypeError\u001b[0m: kwargs_type() takes 0 positional arguments but 3 were given"
     ]
    }
   ],
   "source": [
    "def kwargs_type(*args ,**kwargs):\n",
    "    print(kwargs)\n",
    "kwargs_type(1, 3,6)"
   ]
  },
  {
   "cell_type": "code",
   "execution_count": null,
   "id": "6b5437f2",
   "metadata": {},
   "outputs": [],
   "source": []
  }
 ],
 "metadata": {
  "hide_input": false,
  "kernelspec": {
   "display_name": "Python 3",
   "language": "python",
   "name": "python3"
  },
  "language_info": {
   "codemirror_mode": {
    "name": "ipython",
    "version": 3
   },
   "file_extension": ".py",
   "mimetype": "text/x-python",
   "name": "python",
   "nbconvert_exporter": "python",
   "pygments_lexer": "ipython3",
   "version": "3.7.0"
  },
  "varInspector": {
   "cols": {
    "lenName": 16,
    "lenType": 16,
    "lenVar": 40
   },
   "kernels_config": {
    "python": {
     "delete_cmd_postfix": "",
     "delete_cmd_prefix": "del ",
     "library": "var_list.py",
     "varRefreshCmd": "print(var_dic_list())"
    },
    "r": {
     "delete_cmd_postfix": ") ",
     "delete_cmd_prefix": "rm(",
     "library": "var_list.r",
     "varRefreshCmd": "cat(var_dic_list()) "
    }
   },
   "types_to_exclude": [
    "module",
    "function",
    "builtin_function_or_method",
    "instance",
    "_Feature"
   ],
   "window_display": false
  }
 },
 "nbformat": 4,
 "nbformat_minor": 5
}
